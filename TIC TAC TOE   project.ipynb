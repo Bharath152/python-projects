{
 "cells": [
  {
   "cell_type": "code",
   "execution_count": 1,
   "id": "f90c95e7",
   "metadata": {},
   "outputs": [],
   "source": [
    "def display_board(board):\n",
    "    print('   |  | ')\n",
    "    print(board[1] + '  | ' +  board[2] +'| '+ board[3])\n",
    "    print('   |  | ')\n",
    "    print('------------')\n",
    "    print('   |  | ')\n",
    "    print(board[4] + '  | ' + board[5] + '| ' + board[6])\n",
    "    print('   |  | ')\n",
    "    print('------------')\n",
    "    print('   |  | ')\n",
    "    print(board[7] + '  | ' + board[8] + '| ' + board[9])\n",
    "    print('   |  | ')"
   ]
  },
  {
   "cell_type": "code",
   "execution_count": 2,
   "id": "60ce4d6e",
   "metadata": {},
   "outputs": [
    {
     "name": "stdout",
     "output_type": "stream",
     "text": [
      "   |  | \n",
      "x  | o| x\n",
      "   |  | \n",
      "------------\n",
      "   |  | \n",
      "o  | x| o\n",
      "   |  | \n",
      "------------\n",
      "   |  | \n",
      "x  | o| x\n",
      "   |  | \n"
     ]
    }
   ],
   "source": [
    "test_board=['#','x','o','x','o','x','o','x','o','x']\n",
    "display_board(test_board)"
   ]
  },
  {
   "cell_type": "code",
   "execution_count": 3,
   "id": "5d572a03",
   "metadata": {},
   "outputs": [],
   "source": [
    "global marker\n",
    "def player_input():\n",
    "    marker=' '\n",
    "    while not (marker=='x' or marker=='o'):\n",
    "        marker=input('player 1:do you want to be x or o ?').upper()\n",
    "        if marker=='x':\n",
    "            return('x','o')\n",
    "        else:\n",
    "            return('o','x')"
   ]
  },
  {
   "cell_type": "code",
   "execution_count": 4,
   "id": "01690031",
   "metadata": {},
   "outputs": [
    {
     "name": "stdout",
     "output_type": "stream",
     "text": [
      "player 1:do you want to be x or o ?\n"
     ]
    },
    {
     "data": {
      "text/plain": [
       "('o', 'x')"
      ]
     },
     "execution_count": 4,
     "metadata": {},
     "output_type": "execute_result"
    }
   ],
   "source": [
    " player_input()"
   ]
  },
  {
   "cell_type": "code",
   "execution_count": 5,
   "id": "27ea9631",
   "metadata": {},
   "outputs": [],
   "source": [
    "global marker\n",
    "def place_marker(board,marker,position):\n",
    "    board[position]=marker"
   ]
  },
  {
   "cell_type": "code",
   "execution_count": 6,
   "id": "f6baefcc",
   "metadata": {},
   "outputs": [
    {
     "name": "stdout",
     "output_type": "stream",
     "text": [
      "   |  | \n",
      "x  | o| x\n",
      "   |  | \n",
      "------------\n",
      "   |  | \n",
      "o  | x| o\n",
      "   |  | \n",
      "------------\n",
      "   |  | \n",
      "*  | o| x\n",
      "   |  | \n"
     ]
    }
   ],
   "source": [
    "place_marker(test_board,'*',7)\n",
    "display_board(test_board)\n"
   ]
  },
  {
   "cell_type": "code",
   "execution_count": 7,
   "id": "16aaefb0",
   "metadata": {},
   "outputs": [],
   "source": [
    "def win_check(board,mark):\n",
    "    return ((board[1]==mark and board[2]==mark and board[3]==mark) or\n",
    "   (board[4]==mark and board[5]==mark and board[6]==mark) or\n",
    "   (board[7]==mark and board[8]==mark and board[9]==mark) or\n",
    "   (board[1]==mark and board[4]==mark and board[7]==mark) or\n",
    "   (board[2]==mark and board[5]==mark and board[8]==mark) or\n",
    "   (board[3]==mark and board[6]==mark and board[9]==mark) or\n",
    "   (board[1]==mark and board[5]==mark and board[9]==mark) or\n",
    "   (board[3]==mark and board[5]==mark and board[7]==mark))"
   ]
  },
  {
   "cell_type": "code",
   "execution_count": 8,
   "id": "0f3ba281",
   "metadata": {},
   "outputs": [
    {
     "data": {
      "text/plain": [
       "True"
      ]
     },
     "execution_count": 8,
     "metadata": {},
     "output_type": "execute_result"
    }
   ],
   "source": [
    "win_check(test_board,'x')"
   ]
  },
  {
   "cell_type": "code",
   "execution_count": 9,
   "id": "5a38639d",
   "metadata": {},
   "outputs": [],
   "source": [
    "import random\n",
    "\n",
    "def choose_first():\n",
    "    if random.randint(0, 1) == 0:\n",
    "        return 'Player 2'\n",
    "    else:\n",
    "        return 'Player 1'"
   ]
  },
  {
   "cell_type": "code",
   "execution_count": 10,
   "id": "fddfb9ae",
   "metadata": {},
   "outputs": [],
   "source": [
    "\n",
    "def space_check(board, position):\n",
    "    \n",
    "    return board[position] == ' '"
   ]
  },
  {
   "cell_type": "code",
   "execution_count": 11,
   "id": "0f96adfa",
   "metadata": {},
   "outputs": [],
   "source": [
    "def full_board_check(board):\n",
    "    for i in range(1,10):\n",
    "        if space_check(board, i):\n",
    "            return False\n",
    "    return True"
   ]
  },
  {
   "cell_type": "code",
   "execution_count": 12,
   "id": "3abc9a02",
   "metadata": {},
   "outputs": [],
   "source": [
    "def player_choice(board):\n",
    "    position = 0\n",
    "    \n",
    "    while position not in [1,2,3,4,5,6,7,8,9] or not space_check(board, position):\n",
    "        position = int(input('Choose your next position: (1-9) '))\n",
    "        \n",
    "    return position "
   ]
  },
  {
   "cell_type": "code",
   "execution_count": 13,
   "id": "d59abfec",
   "metadata": {},
   "outputs": [],
   "source": [
    "def replay():\n",
    "    \n",
    "    return input('Do you want to play again? Enter Yes or No: ').lower().startswith('y')"
   ]
  },
  {
   "cell_type": "code",
   "execution_count": 14,
   "id": "ca5c2329",
   "metadata": {},
   "outputs": [
    {
     "name": "stdout",
     "output_type": "stream",
     "text": [
      "player 1:do you want to be x or o ?x\n",
      "Player 1 will go first.\n",
      "Are you ready to play? Enter Yes or No.y\n",
      "   |  | \n",
      "   |  |  \n",
      "   |  | \n",
      "------------\n",
      "   |  | \n",
      "   |  |  \n",
      "   |  | \n",
      "------------\n",
      "   |  | \n",
      "   |  |  \n",
      "   |  | \n",
      "Choose your next position: (1-9) 4\n",
      "   |  | \n",
      "   |  |  \n",
      "   |  | \n",
      "------------\n",
      "   |  | \n",
      "o  |  |  \n",
      "   |  | \n",
      "------------\n",
      "   |  | \n",
      "   |  |  \n",
      "   |  | \n",
      "Choose your next position: (1-9) 3\n",
      "   |  | \n",
      "   |  | x\n",
      "   |  | \n",
      "------------\n",
      "   |  | \n",
      "o  |  |  \n",
      "   |  | \n",
      "------------\n",
      "   |  | \n",
      "   |  |  \n",
      "   |  | \n",
      "Choose your next position: (1-9) 2\n",
      "   |  | \n",
      "   | o| x\n",
      "   |  | \n",
      "------------\n",
      "   |  | \n",
      "o  |  |  \n",
      "   |  | \n",
      "------------\n",
      "   |  | \n",
      "   |  |  \n",
      "   |  | \n",
      "Choose your next position: (1-9) 7\n",
      "   |  | \n",
      "   | o| x\n",
      "   |  | \n",
      "------------\n",
      "   |  | \n",
      "o  |  |  \n",
      "   |  | \n",
      "------------\n",
      "   |  | \n",
      "x  |  |  \n",
      "   |  | \n",
      "Choose your next position: (1-9) 3\n",
      "Choose your next position: (1-9) 5\n",
      "   |  | \n",
      "   | o| x\n",
      "   |  | \n",
      "------------\n",
      "   |  | \n",
      "o  | o|  \n",
      "   |  | \n",
      "------------\n",
      "   |  | \n",
      "x  |  |  \n",
      "   |  | \n",
      "Choose your next position: (1-9) 7\n",
      "Choose your next position: (1-9) 6\n",
      "   |  | \n",
      "   | o| x\n",
      "   |  | \n",
      "------------\n",
      "   |  | \n",
      "o  | o| x\n",
      "   |  | \n",
      "------------\n",
      "   |  | \n",
      "x  |  |  \n",
      "   |  | \n",
      "Choose your next position: (1-9) 8\n",
      "   |  | \n",
      "   | o| x\n",
      "   |  | \n",
      "------------\n",
      "   |  | \n",
      "o  | o| x\n",
      "   |  | \n",
      "------------\n",
      "   |  | \n",
      "x  | o|  \n",
      "   |  | \n",
      "Congratulations! You have won the game!\n",
      "Do you want to play again? Enter Yes or No: yes\n",
      "player 1:do you want to be x or o ?no\n",
      "Player 1 will go first.\n"
     ]
    },
    {
     "ename": "KeyboardInterrupt",
     "evalue": "Interrupted by user",
     "output_type": "error",
     "traceback": [
      "\u001b[1;31m---------------------------------------------------------------------------\u001b[0m",
      "\u001b[1;31mKeyboardInterrupt\u001b[0m                         Traceback (most recent call last)",
      "Cell \u001b[1;32mIn[14], line 6\u001b[0m\n\u001b[0;32m      4\u001b[0m turn \u001b[38;5;241m=\u001b[39m choose_first()\n\u001b[0;32m      5\u001b[0m \u001b[38;5;28mprint\u001b[39m(turn \u001b[38;5;241m+\u001b[39m \u001b[38;5;124m'\u001b[39m\u001b[38;5;124m will go first.\u001b[39m\u001b[38;5;124m'\u001b[39m)\n\u001b[1;32m----> 6\u001b[0m play_game \u001b[38;5;241m=\u001b[39m \u001b[38;5;28minput\u001b[39m(\u001b[38;5;124m'\u001b[39m\u001b[38;5;124mAre you ready to play? Enter Yes or No.\u001b[39m\u001b[38;5;124m'\u001b[39m)\n\u001b[0;32m      7\u001b[0m \u001b[38;5;28;01mif\u001b[39;00m play_game\u001b[38;5;241m.\u001b[39mlower()[\u001b[38;5;241m0\u001b[39m] \u001b[38;5;241m==\u001b[39m \u001b[38;5;124m'\u001b[39m\u001b[38;5;124my\u001b[39m\u001b[38;5;124m'\u001b[39m:\n\u001b[0;32m      8\u001b[0m     game_on \u001b[38;5;241m=\u001b[39m \u001b[38;5;28;01mTrue\u001b[39;00m\n",
      "File \u001b[1;32m~\\anaconda3\\Lib\\site-packages\\ipykernel\\kernelbase.py:1202\u001b[0m, in \u001b[0;36mKernel.raw_input\u001b[1;34m(self, prompt)\u001b[0m\n\u001b[0;32m   1200\u001b[0m     msg \u001b[38;5;241m=\u001b[39m \u001b[38;5;124m\"\u001b[39m\u001b[38;5;124mraw_input was called, but this frontend does not support input requests.\u001b[39m\u001b[38;5;124m\"\u001b[39m\n\u001b[0;32m   1201\u001b[0m     \u001b[38;5;28;01mraise\u001b[39;00m StdinNotImplementedError(msg)\n\u001b[1;32m-> 1202\u001b[0m \u001b[38;5;28;01mreturn\u001b[39;00m \u001b[38;5;28mself\u001b[39m\u001b[38;5;241m.\u001b[39m_input_request(\n\u001b[0;32m   1203\u001b[0m     \u001b[38;5;28mstr\u001b[39m(prompt),\n\u001b[0;32m   1204\u001b[0m     \u001b[38;5;28mself\u001b[39m\u001b[38;5;241m.\u001b[39m_parent_ident[\u001b[38;5;124m\"\u001b[39m\u001b[38;5;124mshell\u001b[39m\u001b[38;5;124m\"\u001b[39m],\n\u001b[0;32m   1205\u001b[0m     \u001b[38;5;28mself\u001b[39m\u001b[38;5;241m.\u001b[39mget_parent(\u001b[38;5;124m\"\u001b[39m\u001b[38;5;124mshell\u001b[39m\u001b[38;5;124m\"\u001b[39m),\n\u001b[0;32m   1206\u001b[0m     password\u001b[38;5;241m=\u001b[39m\u001b[38;5;28;01mFalse\u001b[39;00m,\n\u001b[0;32m   1207\u001b[0m )\n",
      "File \u001b[1;32m~\\anaconda3\\Lib\\site-packages\\ipykernel\\kernelbase.py:1245\u001b[0m, in \u001b[0;36mKernel._input_request\u001b[1;34m(self, prompt, ident, parent, password)\u001b[0m\n\u001b[0;32m   1242\u001b[0m \u001b[38;5;28;01mexcept\u001b[39;00m \u001b[38;5;167;01mKeyboardInterrupt\u001b[39;00m:\n\u001b[0;32m   1243\u001b[0m     \u001b[38;5;66;03m# re-raise KeyboardInterrupt, to truncate traceback\u001b[39;00m\n\u001b[0;32m   1244\u001b[0m     msg \u001b[38;5;241m=\u001b[39m \u001b[38;5;124m\"\u001b[39m\u001b[38;5;124mInterrupted by user\u001b[39m\u001b[38;5;124m\"\u001b[39m\n\u001b[1;32m-> 1245\u001b[0m     \u001b[38;5;28;01mraise\u001b[39;00m \u001b[38;5;167;01mKeyboardInterrupt\u001b[39;00m(msg) \u001b[38;5;28;01mfrom\u001b[39;00m \u001b[38;5;28;01mNone\u001b[39;00m\n\u001b[0;32m   1246\u001b[0m \u001b[38;5;28;01mexcept\u001b[39;00m \u001b[38;5;167;01mException\u001b[39;00m:\n\u001b[0;32m   1247\u001b[0m     \u001b[38;5;28mself\u001b[39m\u001b[38;5;241m.\u001b[39mlog\u001b[38;5;241m.\u001b[39mwarning(\u001b[38;5;124m\"\u001b[39m\u001b[38;5;124mInvalid Message:\u001b[39m\u001b[38;5;124m\"\u001b[39m, exc_info\u001b[38;5;241m=\u001b[39m\u001b[38;5;28;01mTrue\u001b[39;00m)\n",
      "\u001b[1;31mKeyboardInterrupt\u001b[0m: Interrupted by user"
     ]
    }
   ],
   "source": [
    "while True:\n",
    "    theBoard=[' ']*10\n",
    "    player1_marker, player2_marker = player_input()\n",
    "    turn = choose_first()\n",
    "    print(turn + ' will go first.')\n",
    "    play_game = input('Are you ready to play? Enter Yes or No.')\n",
    "    if play_game.lower()[0] == 'y':\n",
    "        game_on = True\n",
    "    else:\n",
    "        game_on = False\n",
    "\n",
    "    while game_on:\n",
    "        if turn == 'Player 1':\n",
    "            display_board(theBoard)\n",
    "            position = player_choice(theBoard)\n",
    "            place_marker(theBoard, player1_marker, position)\n",
    "\n",
    "            if win_check(theBoard, player1_marker):\n",
    "                display_board(theBoard)\n",
    "                print('Congratulations! You have won the game!')\n",
    "                game_on = False\n",
    "            else:\n",
    "                if full_board_check(theBoard):\n",
    "                    display_board(theBoard)\n",
    "                    print('The game is a draw!')\n",
    "                    break\n",
    "                else:\n",
    "                    turn = 'Player 2'\n",
    "        else:\n",
    "            display_board(theBoard)\n",
    "            position = player_choice(theBoard)\n",
    "            place_marker(theBoard, player2_marker, position)\n",
    "\n",
    "            if win_check(theBoard, player2_marker):\n",
    "                display_board(theBoard)\n",
    "                print('Player 2 has won!')\n",
    "                game_on = False\n",
    "            else:4\n",
    "                    print('The game is a draw!')\n",
    "                    break\n",
    "                else:\n",
    "                    turn = 'Player 1'\n",
    "\n",
    "    if not replay():\n",
    "        break\n",
    "\n"
   ]
  },
  {
   "cell_type": "code",
   "execution_count": null,
   "id": "12277f90",
   "metadata": {},
   "outputs": [],
   "source": []
  },
  {
   "cell_type": "code",
   "execution_count": null,
   "id": "c1b9bc84",
   "metadata": {},
   "outputs": [],
   "source": []
  },
  {
   "cell_type": "code",
   "execution_count": null,
   "id": "7bdf9398",
   "metadata": {},
   "outputs": [],
   "source": []
  }
 ],
 "metadata": {
  "kernelspec": {
   "display_name": "Python 3 (ipykernel)",
   "language": "python",
   "name": "python3"
  },
  "language_info": {
   "codemirror_mode": {
    "name": "ipython",
    "version": 3
   },
   "file_extension": ".py",
   "mimetype": "text/x-python",
   "name": "python",
   "nbconvert_exporter": "python",
   "pygments_lexer": "ipython3",
   "version": "3.11.5"
  }
 },
 "nbformat": 4,
 "nbformat_minor": 5
}
