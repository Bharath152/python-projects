{
 "cells": [
  {
   "cell_type": "markdown",
   "id": "3378a20f",
   "metadata": {},
   "source": [
    "##### "
   ]
  },
  {
   "cell_type": "markdown",
   "id": "374d6183",
   "metadata": {},
   "source": [
    "HAND CRICKET GAME :"
   ]
  },
  {
   "cell_type": "markdown",
   "id": "448cc20e",
   "metadata": {},
   "source": [
    "LET'S PLAY"
   ]
  },
  {
   "cell_type": "code",
   "execution_count": null,
   "id": "3b25134a",
   "metadata": {},
   "outputs": [
    {
     "name": "stdout",
     "output_type": "stream",
     "text": [
      "\n",
      "Let's play hand cricket!\n",
      "Let's toss!\n",
      "Enter 'odd' or 'even': odd\n",
      "\n",
      "Computer chose: even\n",
      "Enter your number (1 to 6): 4\n",
      "Computer's number: 6\n",
      "\n",
      "Computer won the toss!\n",
      "Computer chose to bat!\n",
      "\n",
      "Computer, enter your choice (1 to 6): 5\n",
      "Computer scored: 5\n",
      "Computer bowled: 5\n",
      "\n",
      "Computer is out! Computer scored 0 runs.\n",
      "Computer's total score: 0\n",
      "\n",
      "Your turn to bat!\n",
      "You, enter your choice (1 to 6): 4\n",
      "You scored: 4\n",
      "Computer bowled: 6\n",
      "\n",
      "You, enter your choice (1 to 6): 3\n",
      "You scored: 3\n",
      "Computer bowled: 6\n",
      "\n"
     ]
    }
   ],
   "source": [
    " import random\n",
    "\n",
    "def toss():\n",
    "    print(\"Let's toss!\")\n",
    "    user_choice = input(\"Enter 'odd' or 'even': \").lower()\n",
    "    computer_choice = random.choice(['odd', 'even'])\n",
    "    \n",
    "    print(f\"\\nComputer chose: {computer_choice}\")\n",
    "    \n",
    "    total = int(input(\"Enter your number (1 to 6): \"))\n",
    "    computer_total = random.randint(1, 6)\n",
    "    \n",
    "    print(f\"Computer's number: {computer_total}\\n\")\n",
    "    \n",
    "    if (total + computer_total) % 2 == 0:\n",
    "        result = 'even'\n",
    "    else:\n",
    "        result = 'odd'\n",
    "    \n",
    "    if result == user_choice:\n",
    "        print(\"You won the toss!\")\n",
    "        return True\n",
    "    else:\n",
    "        print(\"Computer won the toss!\")\n",
    "        return False\n",
    "\n",
    "def play_hand_cricket():\n",
    "    print(\"\\nLet's play hand cricket!\")\n",
    "    \n",
    "    if toss():\n",
    "        print(\"You chose to bat!\")\n",
    "        play_innings(\"You\")\n",
    "        print(\"Computer's turn to bat!\\n\")\n",
    "        play_innings(\"Computer\")\n",
    "    else:\n",
    "        print(\"Computer chose to bat!\\n\")\n",
    "        play_innings(\"Computer\")\n",
    "        print(\"Your turn to bat!\")\n",
    "        play_innings(\"You\")\n",
    "\n",
    "def play_innings(player):\n",
    "    runs = 0\n",
    "    while True:\n",
    "        bowl = random.randint(1, 6)\n",
    "        player_choice = int(input(f\"{player}, enter your choice (1 to 6): \"))\n",
    "        \n",
    "        if player_choice < 1 or player_choice > 6:\n",
    "            print(\"Invalid choice! Choose between 1 to 6.\")\n",
    "            continue\n",
    "        \n",
    "        print(f\"{player} scored: {player_choice}\")\n",
    "        print(f\"Computer bowled: {bowl}\\n\")\n",
    "        \n",
    "        if player_choice == bowl:\n",
    "            print(f\"{player} is out! {player} scored {runs} runs.\")\n",
    "            break\n",
    "        else:\n",
    "            runs += player_choice\n",
    "\n",
    "    print(f\"{player}'s total score: {runs}\\n\")\n",
    "\n",
    "\n",
    "play_hand_cricket()\n"
   ]
  },
  {
   "cell_type": "code",
   "execution_count": null,
   "id": "843e3106",
   "metadata": {},
   "outputs": [],
   "source": []
  }
 ],
 "metadata": {
  "kernelspec": {
   "display_name": "Python 3 (ipykernel)",
   "language": "python",
   "name": "python3"
  },
  "language_info": {
   "codemirror_mode": {
    "name": "ipython",
    "version": 3
   },
   "file_extension": ".py",
   "mimetype": "text/x-python",
   "name": "python",
   "nbconvert_exporter": "python",
   "pygments_lexer": "ipython3",
   "version": "3.11.5"
  }
 },
 "nbformat": 4,
 "nbformat_minor": 5
}
